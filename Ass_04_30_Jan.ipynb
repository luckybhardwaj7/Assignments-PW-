{
 "cells": [
  {
   "cell_type": "markdown",
   "id": "f78aef69-9119-43d4-9d11-a5694193004c",
   "metadata": {},
   "source": [
    "Question.1= Grading System Program"
   ]
  },
  {
   "cell_type": "code",
   "execution_count": 9,
   "id": "0f944cef-43d3-4ed7-a8e0-129434e4efb4",
   "metadata": {},
   "outputs": [
    {
     "name": "stdin",
     "output_type": "stream",
     "text": [
      "Enter the Percentage:  88\n"
     ]
    },
    {
     "name": "stdout",
     "output_type": "stream",
     "text": [
      "B Grade\n"
     ]
    }
   ],
   "source": [
    "percentage=int(input('Enter the Percentage: '))\n",
    "if percentage>90 and percentage<=100:\n",
    "    print('A Grade')\n",
    "elif percentage>80 and percentage<=90:\n",
    "    print('B Grade')\n",
    "elif percentage>=60 and percentage<=80:\n",
    "    print('C Grade')\n",
    "else:\n",
    "    print('D Grade')"
   ]
  },
  {
   "cell_type": "markdown",
   "id": "9b4a5e65-9029-47ae-ba84-0e39edf40906",
   "metadata": {},
   "source": [
    "Question.2- Bike Tax Program"
   ]
  },
  {
   "cell_type": "code",
   "execution_count": 16,
   "id": "da4e9294-9cec-4310-85c4-4ef7fbb833a8",
   "metadata": {},
   "outputs": [
    {
     "name": "stdin",
     "output_type": "stream",
     "text": [
      "Enter the amount of the bike:  40000\n"
     ]
    },
    {
     "name": "stdout",
     "output_type": "stream",
     "text": [
      "The road tax will be 2000.0 Rupees\n"
     ]
    }
   ],
   "source": [
    "amount=int(input('Enter the amount of the bike: '))\n",
    "if amount>100000:\n",
    "    print(f'The road tax will be {(amount*15)/100} Rupees')\n",
    "elif amount>50000 and amount<100000:\n",
    "    print(f'The road tax will be {(amount*10)/100} Rupees')\n",
    "else:\n",
    "    print(f'The road tax will be {(amount*5)/100} Rupees')"
   ]
  },
  {
   "cell_type": "markdown",
   "id": "dbdf7d0d-8b7b-48fe-a065-2fbd905ecccf",
   "metadata": {},
   "source": [
    "Question.3- Monument List"
   ]
  },
  {
   "cell_type": "code",
   "execution_count": 19,
   "id": "920eef20-52e8-4fe6-b76d-7d708145b575",
   "metadata": {},
   "outputs": [
    {
     "name": "stdin",
     "output_type": "stream",
     "text": [
      "Enter City name:  Agra\n"
     ]
    },
    {
     "name": "stdout",
     "output_type": "stream",
     "text": [
      "Taj Mahal\n"
     ]
    }
   ],
   "source": [
    "city=input('Enter City name: ')\n",
    "if city=='Delhi':\n",
    "    print('Red Fort')\n",
    "elif city=='Agra':\n",
    "    print('Taj Mahal')\n",
    "elif city=='Jaipur':\n",
    "    print('Jal Mahal')\n",
    "else:\n",
    "    print('No Data Found')"
   ]
  },
  {
   "cell_type": "markdown",
   "id": "8705ebe8-147c-4f86-8512-8ccf3866f6b0",
   "metadata": {},
   "source": [
    "Question.4- Check how many times a number can be divided by 3 before it is less than or equal to 3"
   ]
  },
  {
   "cell_type": "code",
   "execution_count": 21,
   "id": "1ad7325f-c8d6-4f56-81d7-b8da9257cce7",
   "metadata": {},
   "outputs": [
    {
     "name": "stdin",
     "output_type": "stream",
     "text": [
      "Enter a number:  9\n"
     ]
    },
    {
     "name": "stdout",
     "output_type": "stream",
     "text": [
      "0\n"
     ]
    }
   ],
   "source": [
    "#here we will be using the While Loop as the number is unkonwn to us\n",
    "num = int(input(\"Enter a number: \"))\n",
    "count = 0\n",
    "\n",
    "while num > 10:\n",
    "    num = num / 3\n",
    "    count += 1\n",
    "print(count)"
   ]
  },
  {
   "cell_type": "markdown",
   "id": "5d157421-ed98-4b34-a5a9-2734d6f15623",
   "metadata": {},
   "source": [
    "question.5- Why and when to use while loop in Python give us a detailed description with examples "
   ]
  },
  {
   "cell_type": "markdown",
   "id": "1b4045fa-284e-4d8e-8169-bc038e07b190",
   "metadata": {},
   "source": [
    "1.-While loop is used when the number of repetitions is unknown till the condition met.  "
   ]
  },
  {
   "cell_type": "markdown",
   "id": "043c11f3-445d-4969-956a-86a7a89bce35",
   "metadata": {},
   "source": [
    "2.- Iterating through a list or other iterable until a certain condition is met. You can use a while loop to iterate through a list and perform some action on each element until you reach an element that meets a certain condition."
   ]
  },
  {
   "cell_type": "markdown",
   "id": "a5cd57e7-5306-4ea0-ba6d-2e44fa9ac0cd",
   "metadata": {},
   "source": [
    "3.-Implementing a countdown or other timer. You can use a while loop to implement a countdown or other timer."
   ]
  },
  {
   "cell_type": "code",
   "execution_count": 22,
   "id": "b7bbd305-b5a3-494b-9cb0-55d1d2fdea5c",
   "metadata": {},
   "outputs": [
    {
     "name": "stdout",
     "output_type": "stream",
     "text": [
      "1\n",
      "2\n",
      "3\n",
      "4\n"
     ]
    }
   ],
   "source": [
    "#Example of While loop-\n",
    "num = [1, 2, 3, 4, 5, 6, 7, 8, 9, 10]\n",
    "index = 0\n",
    "while num[index] < 5:\n",
    "    print(num[index])\n",
    "    index += 1\n"
   ]
  },
  {
   "cell_type": "markdown",
   "id": "bb31e0d8-f9c9-4d13-8730-9ad8bb059828",
   "metadata": {},
   "source": [
    "Question.6- Use a nested while loop to print the 3 different patterns "
   ]
  },
  {
   "cell_type": "code",
   "execution_count": 23,
   "id": "579a57f8-d004-4488-8f6c-937e19588dbd",
   "metadata": {},
   "outputs": [
    {
     "name": "stdout",
     "output_type": "stream",
     "text": [
      "*\n",
      "**\n",
      "***\n",
      "****\n",
      "*****\n"
     ]
    }
   ],
   "source": [
    "i = 1\n",
    "while i <= 5:\n",
    "    j = 1\n",
    "    while j <= i:\n",
    "        print(\"*\", end=\"\")\n",
    "        j += 1\n",
    "    print()\n",
    "    i += 1\n"
   ]
  },
  {
   "cell_type": "code",
   "execution_count": 26,
   "id": "33934684-1932-4e81-9d43-f3bc7d49497d",
   "metadata": {},
   "outputs": [
    {
     "name": "stdout",
     "output_type": "stream",
     "text": [
      "    *\n",
      "   **\n",
      "  ***\n",
      " ****\n",
      "*****\n"
     ]
    }
   ],
   "source": [
    "i = 1\n",
    "while i <= 5:\n",
    "    j = 1\n",
    "    while j <= 5 - i:\n",
    "        print(\" \", end=\"\")\n",
    "        j += 1\n",
    "    k = 1\n",
    "    while k <= i:\n",
    "        print(\"*\", end=\"\")\n",
    "        k += 1\n",
    "    print()\n",
    "    i += 1\n"
   ]
  },
  {
   "cell_type": "code",
   "execution_count": 27,
   "id": "32ee22b2-48db-488e-ae8e-e8f207554c39",
   "metadata": {},
   "outputs": [
    {
     "name": "stdout",
     "output_type": "stream",
     "text": [
      "*****\n",
      " ****\n",
      "  ***\n",
      "   **\n",
      "    *\n"
     ]
    }
   ],
   "source": [
    "i = 1\n",
    "while i <= 5:\n",
    "    j = 1\n",
    "    while j < i:\n",
    "        print(\" \", end=\"\")\n",
    "        j += 1\n",
    "    k = 1\n",
    "    while k <= 6 - i:\n",
    "        print(\"*\", end=\"\")\n",
    "        k += 1\n",
    "    print()\n",
    "    i += 1\n"
   ]
  },
  {
   "cell_type": "markdown",
   "id": "a42fec69-abd7-4cc9-925f-003424724ff0",
   "metadata": {},
   "source": [
    "Question.7- Reverse a while loop to display numbers from 10 to 1"
   ]
  },
  {
   "cell_type": "code",
   "execution_count": 2,
   "id": "926aab44-eaf1-40f8-9938-7d8eb1904346",
   "metadata": {},
   "outputs": [
    {
     "name": "stdout",
     "output_type": "stream",
     "text": [
      "10\n",
      "9\n",
      "8\n",
      "7\n",
      "6\n",
      "5\n",
      "4\n",
      "3\n",
      "2\n",
      "1\n"
     ]
    }
   ],
   "source": [
    "i=10\n",
    "while i>=1:\n",
    "    print(i)\n",
    "    i=i-1"
   ]
  },
  {
   "cell_type": "code",
   "execution_count": null,
   "id": "4edc1b4c-79b0-40bb-bb8c-a05d651ba6f3",
   "metadata": {},
   "outputs": [],
   "source": []
  }
 ],
 "metadata": {
  "kernelspec": {
   "display_name": "Python 3 (ipykernel)",
   "language": "python",
   "name": "python3"
  },
  "language_info": {
   "codemirror_mode": {
    "name": "ipython",
    "version": 3
   },
   "file_extension": ".py",
   "mimetype": "text/x-python",
   "name": "python",
   "nbconvert_exporter": "python",
   "pygments_lexer": "ipython3",
   "version": "3.10.8"
  }
 },
 "nbformat": 4,
 "nbformat_minor": 5
}
