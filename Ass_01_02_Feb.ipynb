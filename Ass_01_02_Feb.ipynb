{
 "cells": [
  {
   "cell_type": "markdown",
   "id": "bd7227a0-d1e6-44d5-8d5a-760b16e19244",
   "metadata": {},
   "source": [
    "Question.1- Explain with an example each when to use a for loop and a while loop."
   ]
  },
  {
   "cell_type": "markdown",
   "id": "d1d95023-3a69-4eff-8b12-7c08ea3733f8",
   "metadata": {},
   "source": [
    "For loop is used when the number of repetitions is known eg. for a given range "
   ]
  },
  {
   "cell_type": "code",
   "execution_count": 2,
   "id": "81f978b7-0d4d-458b-8086-e05042494149",
   "metadata": {},
   "outputs": [
    {
     "name": "stdout",
     "output_type": "stream",
     "text": [
      "5\n",
      "10\n",
      "15\n",
      "20\n",
      "25\n",
      "30\n",
      "35\n",
      "40\n",
      "45\n",
      "50\n"
     ]
    }
   ],
   "source": [
    "#to print the table of 5\n",
    "for num in range(1,11):\n",
    "    print(num*5)"
   ]
  },
  {
   "cell_type": "markdown",
   "id": "91297025-9256-4fc2-8fba-a802bd6d2868",
   "metadata": {},
   "source": [
    "While loop is used when the number of repetitions is unknown for example"
   ]
  },
  {
   "cell_type": "code",
   "execution_count": 1,
   "id": "560808ca-0374-4791-9b3b-43eeeeef40ad",
   "metadata": {},
   "outputs": [
    {
     "name": "stdout",
     "output_type": "stream",
     "text": [
      "1\n",
      "2\n",
      "3\n",
      "4\n",
      "5\n",
      "6\n",
      "7\n",
      "8\n",
      "9\n",
      "10\n"
     ]
    }
   ],
   "source": [
    "i=1\n",
    "while i<=10:\n",
    "    print(i)\n",
    "    i=i+1"
   ]
  },
  {
   "cell_type": "markdown",
   "id": "38ced033-f3f9-4170-acdb-257dd05fb71a",
   "metadata": {},
   "source": [
    "Question.2-  Write a python program to print the sum and product of the first 10 natural numbers using for \n",
    "and while loop."
   ]
  },
  {
   "cell_type": "markdown",
   "id": "8b0bc8c7-bda5-4015-9c35-3135104875b3",
   "metadata": {},
   "source": [
    "Sum using While Loop "
   ]
  },
  {
   "cell_type": "code",
   "execution_count": 8,
   "id": "24398885-a1a8-486a-b322-1ac5ba52266b",
   "metadata": {},
   "outputs": [
    {
     "name": "stdout",
     "output_type": "stream",
     "text": [
      "The sum of the first 10 natural numbers is 55\n"
     ]
    }
   ],
   "source": [
    "sum1=0\n",
    "product=1\n",
    "counter=1\n",
    "n=10\n",
    "while counter<=10:\n",
    "    sum1=sum1+counter\n",
    "    counter=counter+1\n",
    "print(f'The sum of the first 10 natural numbers is {sum}')"
   ]
  },
  {
   "cell_type": "markdown",
   "id": "808307f1-aa8b-41f7-9584-e56058d73836",
   "metadata": {},
   "source": [
    "Product Using While Loop"
   ]
  },
  {
   "cell_type": "code",
   "execution_count": 10,
   "id": "83949609-87af-4e3d-a9bd-17f389d606ef",
   "metadata": {},
   "outputs": [
    {
     "name": "stdout",
     "output_type": "stream",
     "text": [
      "The product of the first 10 natural numbers is 3628800\n"
     ]
    }
   ],
   "source": [
    "product=1\n",
    "counter=1\n",
    "n=10\n",
    "while counter<=10:\n",
    "    product=product*counter\n",
    "    counter=counter+1\n",
    "print(f'The product of the first 10 natural numbers is {product}')"
   ]
  },
  {
   "cell_type": "markdown",
   "id": "dc2d93f3-cb46-4c20-9bd0-d2ca5c687d85",
   "metadata": {},
   "source": [
    "Sum Using For Loop "
   ]
  },
  {
   "cell_type": "code",
   "execution_count": 14,
   "id": "ee84ea9e-106a-4611-be94-631baf7e121d",
   "metadata": {},
   "outputs": [
    {
     "name": "stdout",
     "output_type": "stream",
     "text": [
      "The sum of the first 10 natural numbers is 55\n"
     ]
    }
   ],
   "source": [
    "sum=0\n",
    "for i in range(1,11):\n",
    "    sum=sum+i\n",
    "    i=i+1\n",
    "print(f'The sum of the first 10 natural numbers is {sum}')"
   ]
  },
  {
   "cell_type": "code",
   "execution_count": 15,
   "id": "1ca8d126-14c1-44a0-9285-3049230c2e4f",
   "metadata": {},
   "outputs": [
    {
     "name": "stdout",
     "output_type": "stream",
     "text": [
      "The product of the first 10 natural numbers is 3628800\n"
     ]
    }
   ],
   "source": [
    "product=1\n",
    "for i in range(1,11):\n",
    "    product=product*i\n",
    "    i=i+1\n",
    "print(f'The product of the first 10 natural numbers is {product}')"
   ]
  },
  {
   "cell_type": "markdown",
   "id": "14410160-0d8f-43e4-80d2-a8e5ad231981",
   "metadata": {},
   "source": [
    "\n",
    "Question.3- Create a python program to compute the electricity bill for a household.\n",
    "The per-unit charges in rupees are as follows: For the first 100 units, the user will be charged Rs. 4.5 per \n",
    "unit, for the next 100 units, the user will be charged Rs. 6 per unit, and for the next 100 units, the user will \n",
    "be charged Rs. 10 per unit, After 300 units and above the user will be charged Rs. 20 per unit.\n",
    "\n",
    "\n",
    "You are required to take the units of electricity consumed in a month from the user as input.\n",
    "\n",
    "\n",
    "Your program must pass this test case: when the unit of electricity consumed by the user in a month is \n",
    "310, the total electricity bill should be 2250."
   ]
  },
  {
   "cell_type": "code",
   "execution_count": 22,
   "id": "9ca699db-8ef1-4a63-9fc4-49a0f2a68007",
   "metadata": {},
   "outputs": [
    {
     "name": "stdin",
     "output_type": "stream",
     "text": [
      "Enter total number of units consumed  310\n"
     ]
    },
    {
     "name": "stdout",
     "output_type": "stream",
     "text": [
      "Total bill is:₹ 2250.0\n"
     ]
    }
   ],
   "source": [
    "units_consumed=int(input('Enter total number of units consumed '))\n",
    "bill_100u=100*4.5\n",
    "bill_200u=bill_100u+100*6\n",
    "bill_300u=bill_200u+100*10\n",
    "if units_consumed<=100:\n",
    "    total_bill=units_consumed*4.5\n",
    "    print('Total bill is:₹', total_bill)\n",
    "elif units_consumed>100 and units_consumed<=200:\n",
    "    total_bill=bill_100u+(units_consumed-100)*6\n",
    "    print('Total bill is:₹', total_bill)\n",
    "elif units_consumed>200 and units_consumed<=300:\n",
    "    total_bill=bill_200u+(units_consumed-200)*10\n",
    "    print('Total bill is:₹', total_bill)\n",
    "else:\n",
    "    total_bill=bill_300u+(units_consumed-300)*20\n",
    "    print('Total bill is:₹', total_bill)"
   ]
  },
  {
   "cell_type": "markdown",
   "id": "97ef5f90-a0db-451c-80e8-de7fed4605b0",
   "metadata": {},
   "source": [
    "Question.4- Create a list of numbers from 1 to 100. Use for loop and while loop to calculate the cube of each \n",
    "number and if the cube of that number is divisible by 4 or 5 then append that number in a list and print \n",
    "that list."
   ]
  },
  {
   "cell_type": "markdown",
   "id": "17336642-e0e0-450a-a168-f2ca160ad88b",
   "metadata": {},
   "source": [
    "Using the For Loop "
   ]
  },
  {
   "cell_type": "code",
   "execution_count": 23,
   "id": "4e87a895-1aad-425f-be79-50de4d79cda9",
   "metadata": {},
   "outputs": [
    {
     "name": "stdout",
     "output_type": "stream",
     "text": [
      "[2, 4, 5, 6, 8, 10, 12, 14, 15, 16, 18, 20, 22, 24, 25, 26, 28, 30, 32, 34, 35, 36, 38, 40, 42, 44, 45, 46, 48, 50, 52, 54, 55, 56, 58, 60, 62, 64, 65, 66, 68, 70, 72, 74, 75, 76, 78, 80, 82, 84, 85, 86, 88, 90, 92, 94, 95, 96, 98, 100]\n"
     ]
    }
   ],
   "source": [
    "cube_list = []\n",
    "for i in range(1, 101):\n",
    "    cube = i ** 3\n",
    "    if cube % 4 == 0 or cube % 5 == 0:\n",
    "        cube_list.append(i)\n",
    "print(cube_list)"
   ]
  },
  {
   "cell_type": "markdown",
   "id": "fd68e79a-d3d2-43cc-a351-d40900767178",
   "metadata": {},
   "source": [
    "Using the While Loop"
   ]
  },
  {
   "cell_type": "code",
   "execution_count": 28,
   "id": "9603c173-fe47-4f07-b32e-c8a23376016e",
   "metadata": {},
   "outputs": [
    {
     "name": "stdout",
     "output_type": "stream",
     "text": [
      "[2, 4, 5, 6, 8, 10, 12, 14, 15, 16, 18, 20, 22, 24, 25, 26, 28, 30, 32, 34, 35, 36, 38, 40, 42, 44, 45, 46, 48, 50, 52, 54, 55, 56, 58, 60, 62, 64, 65, 66, 68, 70, 72, 74, 75, 76, 78, 80, 82, 84, 85, 86, 88, 90, 92, 94, 95, 96, 98, 100]\n"
     ]
    }
   ],
   "source": [
    "cube_list = []\n",
    "i = 1\n",
    "while i <= 100:\n",
    "    cube = i ** 3\n",
    "    if cube % 4 == 0 or cube % 5 == 0:\n",
    "        cube_list.append(i)\n",
    "    i =i+ 1\n",
    "print(cube_list)"
   ]
  },
  {
   "cell_type": "markdown",
   "id": "7a0953a2-4e57-4ff6-a39c-6499d30de0e3",
   "metadata": {},
   "source": [
    "Question.5- rite a program to filter count vowels in the below-given string.\n",
    "\n",
    "string = \"I want to become a data scientist"
   ]
  },
  {
   "cell_type": "code",
   "execution_count": 36,
   "id": "725fd99d-9ef1-46a9-a8a1-e547d4718109",
   "metadata": {},
   "outputs": [
    {
     "data": {
      "text/plain": [
       "12"
      ]
     },
     "execution_count": 36,
     "metadata": {},
     "output_type": "execute_result"
    }
   ],
   "source": [
    "vowel=['a','e','i','o','u']\n",
    "string =(\"I want to become a data scientist\")\n",
    "string=string.lower() #Python is case sensetive so we have to convert all the characters in the lowercase first \n",
    "count=0\n",
    "for i in string:\n",
    "    if i in vowel:\n",
    "        count+=1\n",
    "count"
   ]
  }
 ],
 "metadata": {
  "kernelspec": {
   "display_name": "Python 3 (ipykernel)",
   "language": "python",
   "name": "python3"
  },
  "language_info": {
   "codemirror_mode": {
    "name": "ipython",
    "version": 3
   },
   "file_extension": ".py",
   "mimetype": "text/x-python",
   "name": "python",
   "nbconvert_exporter": "python",
   "pygments_lexer": "ipython3",
   "version": "3.10.8"
  }
 },
 "nbformat": 4,
 "nbformat_minor": 5
}
