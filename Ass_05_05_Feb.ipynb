{
 "cells": [
  {
   "cell_type": "markdown",
   "id": "447f4918-4c5e-45f1-bb79-0def6619d1d5",
   "metadata": {},
   "source": [
    "Question.1- Explain Class and Object with respect to Object-Oriented Programming. Give a suitable example."
   ]
  },
  {
   "cell_type": "markdown",
   "id": "257964e6-8fde-4b61-8616-fe87b9bf1bd0",
   "metadata": {},
   "source": [
    "Class is a blueprint or template that defines the characteristics and behaviors of objects. It specifies the attributes (data) and methods (functions) that objects of that class will have.\n",
    "\n",
    "An object is an instance of a class. It is a concrete entity that has a specific state and behavior defined by the class to which it belongs. Objects can interact with each other by invoking each other's methods, and they can also have their own state, which can be modified by the methods."
   ]
  },
  {
   "cell_type": "code",
   "execution_count": 10,
   "id": "365f92dc-3c6c-47af-ae5b-d7d1265fbf27",
   "metadata": {},
   "outputs": [],
   "source": [
    "#creating a class named as 'pwskills'\n",
    "class pwskills:\n",
    "    def welcome_msg(self): #creating a function inside a class named as pwskills\n",
    "        print('Welcome to PWSkills')"
   ]
  },
  {
   "cell_type": "code",
   "execution_count": 11,
   "id": "e7be3752-328f-4b26-95c4-ed1b10179768",
   "metadata": {},
   "outputs": [],
   "source": [
    "lucky=pwskills()"
   ]
  },
  {
   "cell_type": "code",
   "execution_count": 12,
   "id": "c15bd427-4922-496f-8926-635e19fd7531",
   "metadata": {},
   "outputs": [
    {
     "name": "stdout",
     "output_type": "stream",
     "text": [
      "Welcome to PWSkills\n"
     ]
    }
   ],
   "source": [
    "lucky.welcome_msg()"
   ]
  },
  {
   "cell_type": "markdown",
   "id": "80a046b8-e57e-4f21-b8f0-d3b678b72a7e",
   "metadata": {},
   "source": [
    "Question.2- Name the four pillars of OOPs."
   ]
  },
  {
   "cell_type": "markdown",
   "id": "f7d08d34-3e28-49e5-afc8-026c58ba7e19",
   "metadata": {},
   "source": [
    "Encapsulation: Encapsulation refers to the bundling of data and methods within a single unit, known as a class. The purpose of encapsulation is to hide the complexity of the class from the outside world and to provide a simple and consistent interface for interacting with the object.\n",
    "\n",
    "Inheritance: Inheritance is the process by which one class acquires the properties (methods and fields) of another class. The purpose of inheritance is to reuse code and to create new classes that are modified versions of existing classes.\n",
    "\n",
    "Polymorphism: Polymorphism refers to the ability of objects of different classes to be used interchangeably. In other words, it allows a single interface to be used for different types of objects. Polymorphism can be achieved through method overloading or method overriding.\n",
    "\n",
    "Abstraction: Abstraction refers to the process of simplifying complex real-world problems by identifying the essential characteristics and ignoring the irrelevant details. In OOP, abstraction is achieved through the use of abstract classes and interfaces, which provide a high-level view of a system and hide the implementation details from the user."
   ]
  },
  {
   "cell_type": "markdown",
   "id": "5e0b39f9-d45a-428b-ad19-3f9c0db7b976",
   "metadata": {},
   "source": [
    "Question.3-Explain why the __init__() function is used. Give a suitable example."
   ]
  },
  {
   "cell_type": "markdown",
   "id": "c4b3d520-7fb9-4d2a-9378-6adf9ddcdd42",
   "metadata": {},
   "source": [
    "__init__ is a constructor function that is used to pass on the data inside the Class"
   ]
  },
  {
   "cell_type": "code",
   "execution_count": 22,
   "id": "5782de30-ba4d-431b-9077-8b199d1d8b87",
   "metadata": {},
   "outputs": [],
   "source": [
    "#Example \n",
    "class pwskills1:\n",
    "    def __init__(self,phone_number,email_id,student_id): #__init__ is used to pass the data inside a function\n",
    "        self.phone_number=phone_number\n",
    "        self.email_id=email_id\n",
    "        self.student_id=student_id\n",
    "    def return_student_details(self):\n",
    "        return self.student_id,self.phone_number,self.email_id"
   ]
  },
  {
   "cell_type": "code",
   "execution_count": 21,
   "id": "6bee46f9-324c-4b44-af1e-5bf5a231cae5",
   "metadata": {},
   "outputs": [],
   "source": [
    "gaurav=pwskills1(6396661234,'gaurav@rediffmail.com','SCSE1002')"
   ]
  },
  {
   "cell_type": "code",
   "execution_count": 23,
   "id": "a4484f22-f7cf-4645-899e-8222691e02db",
   "metadata": {},
   "outputs": [
    {
     "data": {
      "text/plain": [
       "('SCSE1002', 6396661234, 'gaurav@rediffmail.com')"
      ]
     },
     "execution_count": 23,
     "metadata": {},
     "output_type": "execute_result"
    }
   ],
   "source": [
    "gaurav.return_student_details()"
   ]
  },
  {
   "cell_type": "markdown",
   "id": "79a76a2d-c045-463c-a318-c84067b76be2",
   "metadata": {},
   "source": [
    "Question.4-Why self is used in OOPs?"
   ]
  },
  {
   "cell_type": "markdown",
   "id": "0d47aaed-fc0d-4161-997c-0ec198599eb6",
   "metadata": {},
   "source": [
    "If you want to access the data inside the class then you have to use the self. \n",
    "\n",
    "Self is not a reserved keyword you can use any keyword."
   ]
  },
  {
   "cell_type": "markdown",
   "id": "a04f9f55-b2b7-41d6-a56d-e6cab7b9e457",
   "metadata": {},
   "source": [
    "Question5.- What is inheritance? Give an example for each type of inheritance."
   ]
  },
  {
   "cell_type": "markdown",
   "id": "0813b5a2-4a17-4ab5-bee8-8631e499cea2",
   "metadata": {},
   "source": [
    "nheritance is a fundamental concept in Object-Oriented Programming (OOP) that allows a new class to be based on an existing class, inheriting its attributes and methods. The existing class is called the base or parent class, and the new class is called the derived or child class.\n",
    "\n",
    "There are different types of inheritance in OOP, including:\n",
    "\n"
   ]
  },
  {
   "cell_type": "markdown",
   "id": "a7e7ed8c-5ea8-4e70-a933-c06e0ee71141",
   "metadata": {},
   "source": [
    "1. Single inheritance: In single inheritance, a child class inherits from a single parent class. For example, a \"Car\" class can be a parent class, and a \"Sedan\" class can inherit from it. The Sedan class will have all the attributes and methods of the Car class, plus any additional attributes and methods specific to the Sedan class.\n",
    "\n",
    "2. Multi-level inheritance: In multi-level inheritance, a child class inherits from a parent class, which in turn inherits from its own parent class. For example, a \"Vehicle\" class can be a parent class, and a \"Car\" class can inherit from it. Then, a \"Sedan\" class can inherit from the Car class. The Sedan class will have all the attributes and methods of the Car and Vehicle classes.\n",
    "\n",
    "3. Hierarchical inheritance: In hierarchical inheritance, multiple child classes inherit from a single parent class. For example, a \"Shape\" class can be a parent class, and a \"Circle\" class and a \"Rectangle\" class can inherit from it. Both the Circle and Rectangle classes will have all the attributes and methods of the Shape class.\n",
    "\n",
    "4. Multiple inheritance: In multiple inheritance, a child class inherits from multiple parent classes. This can be achieved through interfaces or abstract classes. For example, a \"FlyingCar\" class can inherit from both the \"Car\" class and the \"Airplane\" class, allowing it to have both land and air capabilities."
   ]
  },
  {
   "cell_type": "code",
   "execution_count": null,
   "id": "e01e5ce3-c70d-4be4-a6ae-0c79c8b99c9a",
   "metadata": {},
   "outputs": [],
   "source": []
  }
 ],
 "metadata": {
  "kernelspec": {
   "display_name": "Python 3 (ipykernel)",
   "language": "python",
   "name": "python3"
  },
  "language_info": {
   "codemirror_mode": {
    "name": "ipython",
    "version": 3
   },
   "file_extension": ".py",
   "mimetype": "text/x-python",
   "name": "python",
   "nbconvert_exporter": "python",
   "pygments_lexer": "ipython3",
   "version": "3.10.8"
  }
 },
 "nbformat": 4,
 "nbformat_minor": 5
}
