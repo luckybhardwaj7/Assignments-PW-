{
 "cells": [
  {
   "cell_type": "markdown",
   "id": "7ff42446-8195-43fd-a217-074104702483",
   "metadata": {},
   "source": [
    "Question.1- Which keyword is used to create a function? Create a function to return a list of odd numbers in the \n",
    "range of 1 to 25."
   ]
  },
  {
   "cell_type": "code",
   "execution_count": 17,
   "id": "cd0ca6d9-2a8a-48c4-a982-0ac9b9211f1b",
   "metadata": {},
   "outputs": [],
   "source": [
    "def odd_numbers():\n",
    "    \"\"\"\n",
    "    Returns a list of odd numbers in the range of 1 to 25.\n",
    "    \"\"\"\n",
    "    return [num for num in range(1, 26) if num % 2 == 1]"
   ]
  },
  {
   "cell_type": "code",
   "execution_count": 18,
   "id": "4f307b4d-c3b6-4b7d-95d3-446ed3e24d5a",
   "metadata": {},
   "outputs": [
    {
     "data": {
      "text/plain": [
       "[1, 3, 5, 7, 9, 11, 13, 15, 17, 19, 21, 23, 25]"
      ]
     },
     "execution_count": 18,
     "metadata": {},
     "output_type": "execute_result"
    }
   ],
   "source": [
    "odd_numbers()"
   ]
  },
  {
   "cell_type": "markdown",
   "id": "7d778c5a-ea09-4519-9bbe-8d97ad6c7e35",
   "metadata": {},
   "source": [
    "question.2- Why *args and **kwargs is used in some functions? Create a function each for *args and **kwargs \n",
    "to demonstrate their use."
   ]
  },
  {
   "cell_type": "markdown",
   "id": "771f233c-2119-4bea-9a32-f72933323fb5",
   "metadata": {},
   "source": [
    "*args is used to give n number of arguments for a linear one\n",
    "**kwargs is used for n number of arguments for the key value pair "
   ]
  },
  {
   "cell_type": "code",
   "execution_count": 5,
   "id": "d0330ed4-b465-4897-ac64-e837d566ba14",
   "metadata": {},
   "outputs": [
    {
     "data": {
      "text/plain": [
       "{'a': [1, 2, 3, 4], 'b': 'Lucky Bhardwaj', 'c': 89.9}"
      ]
     },
     "execution_count": 5,
     "metadata": {},
     "output_type": "execute_result"
    }
   ],
   "source": [
    "# **kwargs example\n",
    "def test1(**kwargs):\n",
    "    return kwargs\n",
    "test1(a=[1,2,3,4], b='Lucky Bhardwaj', c=89.90)"
   ]
  },
  {
   "cell_type": "code",
   "execution_count": 4,
   "id": "dfd0be3a-5e1d-4107-89a5-7f145875d405",
   "metadata": {},
   "outputs": [
    {
     "data": {
      "text/plain": [
       "(33, 356, 56, 'xDad', 'sdd')"
      ]
     },
     "execution_count": 4,
     "metadata": {},
     "output_type": "execute_result"
    }
   ],
   "source": [
    "# *args example\n",
    "def test1(*args):\n",
    "    return args\n",
    "test1(33,356,56,'xDad','sdd')"
   ]
  },
  {
   "cell_type": "markdown",
   "id": "58a059d6-52fe-492d-b610-49dd1bb01293",
   "metadata": {},
   "source": [
    "Question.3- What is an iterator in python? Name the method used to initialise the iterator object and the method \n",
    "used for iteration. Use these methods to print the first five elements of the given list [2, 4, 6, 8, 10, 12, 14, \n",
    "16, 18, 20]."
   ]
  },
  {
   "cell_type": "markdown",
   "id": "8f743809-4693-4796-aa48-be91176e66ad",
   "metadata": {},
   "source": [
    "An iterator is an object that allows you to iterate over a collection of data. It provides a way to access the elements of a collection one at a time."
   ]
  },
  {
   "cell_type": "markdown",
   "id": "40a05c6d-3143-45f0-babf-92886590d7b6",
   "metadata": {},
   "source": [
    "Iterators in Python are implemented as classes that define two methods: __iter__() and __next__(). The __iter__() method returns the iterator object itself and is called when the iterator is initialized. The __next__() method returns the next value in the sequence and raises a StopIteration exception when there are no more items to return."
   ]
  },
  {
   "cell_type": "code",
   "execution_count": 13,
   "id": "80db0da1-f75d-42f2-81a9-192f086b2cda",
   "metadata": {},
   "outputs": [],
   "source": [
    "l = [2, 4, 6, 8, 10, 12, 14, 16, 18, 20]\n",
    "list_iter = iter(l)"
   ]
  },
  {
   "cell_type": "code",
   "execution_count": 14,
   "id": "1640b7ad-9ce7-4847-82e4-697da44b0d02",
   "metadata": {},
   "outputs": [
    {
     "name": "stdout",
     "output_type": "stream",
     "text": [
      "2\n"
     ]
    }
   ],
   "source": [
    "print(next(list_iter))"
   ]
  },
  {
   "cell_type": "code",
   "execution_count": 15,
   "id": "b9b7a802-c8be-4784-8bcd-5cbaab9f04d1",
   "metadata": {},
   "outputs": [
    {
     "name": "stdout",
     "output_type": "stream",
     "text": [
      "4\n"
     ]
    }
   ],
   "source": [
    "print(next(list_iter))"
   ]
  },
  {
   "cell_type": "code",
   "execution_count": 16,
   "id": "e536134f-aa0c-4d5c-ae6e-fd98d5422ae8",
   "metadata": {},
   "outputs": [
    {
     "name": "stdout",
     "output_type": "stream",
     "text": [
      "6\n"
     ]
    }
   ],
   "source": [
    "print(next(list_iter))"
   ]
  },
  {
   "cell_type": "code",
   "execution_count": 17,
   "id": "5d0a6241-71f2-4c30-9ec3-fe63f85b45bc",
   "metadata": {},
   "outputs": [
    {
     "name": "stdout",
     "output_type": "stream",
     "text": [
      "8\n"
     ]
    }
   ],
   "source": [
    "print(next(list_iter))"
   ]
  },
  {
   "cell_type": "code",
   "execution_count": 18,
   "id": "cb993a89-05a3-4423-b1e3-6d8a42deff1f",
   "metadata": {},
   "outputs": [
    {
     "name": "stdout",
     "output_type": "stream",
     "text": [
      "10\n"
     ]
    }
   ],
   "source": [
    "print(next(list_iter))"
   ]
  },
  {
   "cell_type": "markdown",
   "id": "9c24614d-ac8d-4ff8-a95c-5097dea0dbbc",
   "metadata": {},
   "source": [
    "Question.4-  What is a generator function in python? Why yield keyword is used? Give an example of a generator \n",
    "function."
   ]
  },
  {
   "cell_type": "markdown",
   "id": "44c85bf3-48d9-4c89-a94b-9ba12774b6d5",
   "metadata": {},
   "source": [
    "Generator Function is a function that is used to generate the outputs one by one instead of storing the data and then giving the output. It Reduces the memory consumption. Generator Function Does not hold the data into the memory."
   ]
  },
  {
   "cell_type": "markdown",
   "id": "93bfdddc-fd62-4be7-a293-bc2b7708625f",
   "metadata": {},
   "source": [
    "Yield helps in making the generator function by creating the iterable objects."
   ]
  },
  {
   "cell_type": "code",
   "execution_count": 19,
   "id": "24cba767-1828-4bde-bb4c-c72570d58692",
   "metadata": {},
   "outputs": [
    {
     "name": "stdout",
     "output_type": "stream",
     "text": [
      "0\n",
      "1\n",
      "2\n",
      "3\n",
      "4\n",
      "5\n",
      "6\n",
      "7\n",
      "8\n",
      "9\n"
     ]
    }
   ],
   "source": [
    "def generator():\n",
    "    for i in range(10):\n",
    "        yield i\n",
    "iterator = generator()\n",
    "for i in iterator:\n",
    "    print(i)"
   ]
  },
  {
   "cell_type": "markdown",
   "id": "fdf2534c-872a-4420-a3ba-d569143d410b",
   "metadata": {},
   "source": [
    "Question.5- Create a generator function for prime numbers less than 1000. Use the next() method to print the \n",
    "first 20 prime numbers."
   ]
  },
  {
   "cell_type": "code",
   "execution_count": null,
   "id": "1aaa2b4c-8abe-4528-aeae-b13f70dcdf01",
   "metadata": {},
   "outputs": [],
   "source": []
  },
  {
   "cell_type": "markdown",
   "id": "ddab8f39-5aeb-4edc-9008-70b959927db5",
   "metadata": {},
   "source": [
    "Question.6- Write a python program to print the first 10 Fibonacci numbers using a while loop."
   ]
  },
  {
   "cell_type": "code",
   "execution_count": 2,
   "id": "8ccd9039-1a23-457f-8954-ede0a48cfe4a",
   "metadata": {},
   "outputs": [
    {
     "name": "stdout",
     "output_type": "stream",
     "text": [
      "0\n",
      "1\n",
      "1\n",
      "2\n",
      "3\n",
      "5\n",
      "8\n",
      "13\n",
      "21\n",
      "34\n"
     ]
    }
   ],
   "source": [
    "a=0\n",
    "b=1\n",
    "count=0\n",
    "while count<10:\n",
    "    print(a)\n",
    "    c=a+b\n",
    "    a=b\n",
    "    b=c\n",
    "    count=count+1"
   ]
  },
  {
   "cell_type": "markdown",
   "id": "365e3643-e9dd-4e61-a0bd-881819ffd294",
   "metadata": {},
   "source": [
    "Question.7- Write a List Comprehension to iterate through the given string: ‘pwskills’.\n",
    "\n",
    "Expected output: ['p', 'w', 's', 'k', 'i', 'l', 'l', 's'] "
   ]
  },
  {
   "cell_type": "code",
   "execution_count": 7,
   "id": "517a7a51-892b-44cb-8ba0-f82e97a389c9",
   "metadata": {},
   "outputs": [
    {
     "data": {
      "text/plain": [
       "['p', 'w', 's', 'k', 'i', 'l', 'l', 's']"
      ]
     },
     "execution_count": 7,
     "metadata": {},
     "output_type": "execute_result"
    }
   ],
   "source": [
    "str='pwskills'\n",
    "[i for i in str]"
   ]
  },
  {
   "cell_type": "markdown",
   "id": "e0d3f340-4353-451e-8c32-a41f7c5e9a59",
   "metadata": {},
   "source": [
    "Question.8- Write a python program to check whether a given number is Palindrome or not using a while loop."
   ]
  },
  {
   "cell_type": "code",
   "execution_count": null,
   "id": "ce2dea16-476a-44fa-a407-319c278e8b8c",
   "metadata": {},
   "outputs": [],
   "source": []
  },
  {
   "cell_type": "markdown",
   "id": "2154657e-a63e-40d7-bf7f-379f7e785c9c",
   "metadata": {},
   "source": [
    "Question.9- Write a code to print odd numbers from 1 to 100 using list comprehension."
   ]
  },
  {
   "cell_type": "code",
   "execution_count": 12,
   "id": "f9535826-76bb-444b-98f5-722530220b60",
   "metadata": {},
   "outputs": [
    {
     "data": {
      "text/plain": [
       "[1,\n",
       " 3,\n",
       " 5,\n",
       " 7,\n",
       " 9,\n",
       " 11,\n",
       " 13,\n",
       " 15,\n",
       " 17,\n",
       " 19,\n",
       " 21,\n",
       " 23,\n",
       " 25,\n",
       " 27,\n",
       " 29,\n",
       " 31,\n",
       " 33,\n",
       " 35,\n",
       " 37,\n",
       " 39,\n",
       " 41,\n",
       " 43,\n",
       " 45,\n",
       " 47,\n",
       " 49,\n",
       " 51,\n",
       " 53,\n",
       " 55,\n",
       " 57,\n",
       " 59,\n",
       " 61,\n",
       " 63,\n",
       " 65,\n",
       " 67,\n",
       " 69,\n",
       " 71,\n",
       " 73,\n",
       " 75,\n",
       " 77,\n",
       " 79,\n",
       " 81,\n",
       " 83,\n",
       " 85,\n",
       " 87,\n",
       " 89,\n",
       " 91,\n",
       " 93,\n",
       " 95,\n",
       " 97,\n",
       " 99]"
      ]
     },
     "execution_count": 12,
     "metadata": {},
     "output_type": "execute_result"
    }
   ],
   "source": [
    "[i for i in range(0,101) if i%2==1]"
   ]
  }
 ],
 "metadata": {
  "kernelspec": {
   "display_name": "Python 3 (ipykernel)",
   "language": "python",
   "name": "python3"
  },
  "language_info": {
   "codemirror_mode": {
    "name": "ipython",
    "version": 3
   },
   "file_extension": ".py",
   "mimetype": "text/x-python",
   "name": "python",
   "nbconvert_exporter": "python",
   "pygments_lexer": "ipython3",
   "version": "3.10.8"
  }
 },
 "nbformat": 4,
 "nbformat_minor": 5
}
